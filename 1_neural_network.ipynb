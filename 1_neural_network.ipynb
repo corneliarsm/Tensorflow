{
  "nbformat": 4,
  "nbformat_minor": 0,
  "metadata": {
    "colab": {
      "name": "1_neural_network.ipynb",
      "provenance": [],
      "authorship_tag": "ABX9TyM91H1IRFNDTNPZRL5UlD0V",
      "include_colab_link": true
    },
    "kernelspec": {
      "name": "python3",
      "display_name": "Python 3"
    }
  },
  "cells": [
    {
      "cell_type": "markdown",
      "metadata": {
        "id": "view-in-github",
        "colab_type": "text"
      },
      "source": [
        "<a href=\"https://colab.research.google.com/github/corneliarsm/Tensorflow/blob/master/1_neural_network.ipynb\" target=\"_parent\"><img src=\"https://colab.research.google.com/assets/colab-badge.svg\" alt=\"Open In Colab\"/></a>"
      ]
    },
    {
      "cell_type": "markdown",
      "metadata": {
        "id": "3Ob0U0fFALKq",
        "colab_type": "text"
      },
      "source": [
        "# 1. Use Tensorflow 2.x"
      ]
    },
    {
      "cell_type": "code",
      "metadata": {
        "id": "YMTfbVxl__5a",
        "colab_type": "code",
        "colab": {}
      },
      "source": [
        ""
      ],
      "execution_count": null,
      "outputs": []
    },
    {
      "cell_type": "markdown",
      "metadata": {
        "id": "UJOohW12AWfb",
        "colab_type": "text"
      },
      "source": [
        "# 2. Build, compile and train machine learning (ML) models using TensorFlow."
      ]
    },
    {
      "cell_type": "markdown",
      "metadata": {
        "id": "M7MipHHSAntb",
        "colab_type": "text"
      },
      "source": [
        "#3. Preprocess data to get it ready for use in a model.\n"
      ]
    },
    {
      "cell_type": "markdown",
      "metadata": {
        "id": "VuS1m3i8BFIl",
        "colab_type": "text"
      },
      "source": [
        "#4. Use models to predict results."
      ]
    },
    {
      "cell_type": "markdown",
      "metadata": {
        "id": "s9s-hWpGBJnq",
        "colab_type": "text"
      },
      "source": [
        "#5. Build sequential models with multiple layers."
      ]
    },
    {
      "cell_type": "markdown",
      "metadata": {
        "id": "JzTLrRJjBPvL",
        "colab_type": "text"
      },
      "source": [
        "#6. Build and train models for binary classification."
      ]
    },
    {
      "cell_type": "markdown",
      "metadata": {
        "id": "fkrxrVCQBW85",
        "colab_type": "text"
      },
      "source": [
        "#7. Build and train models for multi-class categorization."
      ]
    },
    {
      "cell_type": "markdown",
      "metadata": {
        "id": "Zj81Iy1SBY24",
        "colab_type": "text"
      },
      "source": [
        "#8. Plot loss and accuracy of a trained model."
      ]
    },
    {
      "cell_type": "markdown",
      "metadata": {
        "id": "0fGKzhSkBZOj",
        "colab_type": "text"
      },
      "source": [
        "#9. Identify strategies to prevent overfitting, including augmentation and dropout."
      ]
    },
    {
      "cell_type": "markdown",
      "metadata": {
        "id": "7ghrRoxJDscA",
        "colab_type": "text"
      },
      "source": [
        "#10. Use pretrained models (transfer learning)."
      ]
    },
    {
      "cell_type": "markdown",
      "metadata": {
        "id": "2uLjDePsDuls",
        "colab_type": "text"
      },
      "source": [
        "#11. Extract features from pre-trained models."
      ]
    },
    {
      "cell_type": "markdown",
      "metadata": {
        "id": "xj3m3VTSD1yi",
        "colab_type": "text"
      },
      "source": [
        "#12. Ensure that inputs to a model are in the correct shape."
      ]
    },
    {
      "cell_type": "markdown",
      "metadata": {
        "id": "CQBLOLiuD4zr",
        "colab_type": "text"
      },
      "source": [
        "#13. Ensure that you can match test data to the input shape of a neural network."
      ]
    },
    {
      "cell_type": "markdown",
      "metadata": {
        "id": "i3rBvQ4-D9Id",
        "colab_type": "text"
      },
      "source": [
        "#14. Ensure you can match output data of a neural network to specified input shape for test data."
      ]
    },
    {
      "cell_type": "markdown",
      "metadata": {
        "id": "z126NEyqD--h",
        "colab_type": "text"
      },
      "source": [
        "#15. Understand batch loading of data."
      ]
    },
    {
      "cell_type": "markdown",
      "metadata": {
        "id": "19uNp8M6ECoa",
        "colab_type": "text"
      },
      "source": [
        "#16. Use callbacks to trigger the end of training cycles."
      ]
    },
    {
      "cell_type": "markdown",
      "metadata": {
        "id": "MetgzcwnEFb2",
        "colab_type": "text"
      },
      "source": [
        "#17. Use datasets from different sources."
      ]
    },
    {
      "cell_type": "markdown",
      "metadata": {
        "id": "oSidA5liEIiX",
        "colab_type": "text"
      },
      "source": [
        "#18. Use datasets in different formats, including json and csv."
      ]
    },
    {
      "cell_type": "markdown",
      "metadata": {
        "id": "ec_ljAevBA3z",
        "colab_type": "text"
      },
      "source": [
        "#19. Use datasets from tf.data.datasets.\n"
      ]
    }
  ]
}